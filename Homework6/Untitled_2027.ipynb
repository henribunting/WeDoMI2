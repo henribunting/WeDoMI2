{
 "cells": [
  {
   "cell_type": "code",
   "execution_count": 26,
   "metadata": {
    "collapsed": true
   },
   "outputs": [],
   "source": [
    "import numpy as np\n",
    "import matplotlib.pyplot as plt\n",
    "% matplotlib inline"
   ]
  },
  {
   "cell_type": "markdown",
   "metadata": {},
   "source": [
    "# Initialization"
   ]
  },
  {
   "cell_type": "code",
   "execution_count": 27,
   "metadata": {
    "collapsed": false
   },
   "outputs": [],
   "source": [
    "#(a) Load the sound files. Each of the N = 2 sources is sampled at at 8192 Hz and contains p = 18000 samples.\n",
    "s = np.array([np.loadtxt(\"sounds/sound1.dat\"), np.loadtxt(\"sounds/sound2.dat\")])\n",
    "N = s.shape[0]"
   ]
  },
  {
   "cell_type": "code",
   "execution_count": 28,
   "metadata": {
    "collapsed": false
   },
   "outputs": [
    {
     "name": "stdout",
     "output_type": "stream",
     "text": [
      "[[ 0.39786992  0.45386344]\n",
      " [ 0.07976365  0.05325317]]\n",
      "(2, 18000)\n",
      "[[  0.00000000e+00  -7.21611053e-05  -1.77394593e-03 ...,  -3.48957290e-04\n",
      "   -2.58244385e-03   0.00000000e+00]\n",
      " [  0.00000000e+00  -8.46688066e-06  -2.09391174e-04 ...,   1.03284665e-04\n",
      "   -3.95100140e-04   0.00000000e+00]]\n"
     ]
    }
   ],
   "source": [
    "#(b) Create a random (& invertible) N ×N mixing matrix A and mix the sources: x(α) = As(α)\n",
    "A = np.random.uniform(0, 1, (N, N))\n",
    "print(A)\n",
    "x = np.dot(A, s)\n",
    "print(x.shape)\n",
    "print(x)"
   ]
  },
  {
   "cell_type": "code",
   "execution_count": 61,
   "metadata": {
    "collapsed": false
   },
   "outputs": [
    {
     "name": "stdout",
     "output_type": "stream",
     "text": [
      "[[  0.00000000e+00  -7.21611053e-05  -1.77394593e-03 ...,  -3.48957290e-04\n",
      "   -2.58244385e-03   0.00000000e+00]\n",
      " [  0.00000000e+00  -8.46688066e-06  -2.09391174e-04 ...,   1.03284665e-04\n",
      "   -3.95100140e-04   0.00000000e+00]]\n",
      "(2, 18000)\n"
     ]
    }
   ],
   "source": [
    "#(c) Remove the temporal structure by permuting the columns of the N × p matrix X randomly.\n",
    "#xs = np.array([np.random.permutation(xt[0,:]), np.random.permutation(xt[1,:])])\n",
    "xs = np.random.permutation(x)\n",
    "print(xs)\n",
    "print(xs.shape)"
   ]
  },
  {
   "cell_type": "code",
   "execution_count": 62,
   "metadata": {
    "collapsed": false
   },
   "outputs": [
    {
     "name": "stdout",
     "output_type": "stream",
     "text": [
      "[[ 5.36020285  0.00675807  2.13573072  0.42790922]\n",
      " [ 0.00675807  5.36351443  2.43699194  0.28616319]\n",
      " [ 2.13573072  2.43699194  1.95580456  0.30013122]\n",
      " [ 0.42790922  0.28616319  0.30013122  0.0493707 ]]\n"
     ]
    }
   ],
   "source": [
    "#(d) Calculate the correlations between the sources and the mixtures: ρ(si,xj) = cov(si,xj) / (σsi*σxj)\n",
    "p = np.cov(s, xs) / (np.var(s) * np.var(xs))\n",
    "print(p)"
   ]
  },
  {
   "cell_type": "code",
   "execution_count": 63,
   "metadata": {
    "collapsed": false
   },
   "outputs": [
    {
     "name": "stdout",
     "output_type": "stream",
     "text": [
      "(2, 18000)\n"
     ]
    }
   ],
   "source": [
    "#(e) Center the data to zero mean.\n",
    "#print( np.mean(x, axis=1).shape )\n",
    "xsc = xs - np.mean(xs, axis=0)\n",
    "#xsc = xs - np.mean(xs, axis=1).reshape(-1,1)\n",
    "print(xsc.shape)"
   ]
  },
  {
   "cell_type": "code",
   "execution_count": 64,
   "metadata": {
    "collapsed": true
   },
   "outputs": [],
   "source": [
    "#(f) Initialize the unmixing matrix W with random values.\n",
    "#s = W.x, s: Nxp, x: Nxp -> W: NxN\n",
    "W = np.random.uniform(0, 1, (N, N))"
   ]
  },
  {
   "cell_type": "markdown",
   "metadata": {},
   "source": [
    "#Optimization"
   ]
  },
  {
   "cell_type": "code",
   "execution_count": 65,
   "metadata": {
    "collapsed": true
   },
   "outputs": [],
   "source": [
    "def fhat(y):\n",
    "    return 1 / (1 + np.exp(-y))\n",
    "def fhatpp_fhatp(y):\n",
    "    return 1 - 2*fhat(y)"
   ]
  },
  {
   "cell_type": "code",
   "execution_count": 66,
   "metadata": {
    "collapsed": false
   },
   "outputs": [],
   "source": [
    "#(a) Compute the update matrix ∆W using the “regular” gradient.\n",
    "def dW(eta, W, x):\n",
    "    #x0 x1\n",
    "    #x0 x1\n",
    "    xv = np.vstack( (x.T, x.T) )\n",
    "    #x0 x0\n",
    "    #x1 x1\n",
    "    xh = np.hstack( (x.reshape(-1,1), x.reshape(-1,1)) )\n",
    "    #W-1 + f(W . xh) * xv\n",
    "    return eta * (np.linalg.pinv(W).T + np.multiply( fhatpp_fhatp(np.dot(W, xh)), xv))\n",
    "\n",
    "def dW_nonmatrix(eta, W, x, i, j):\n",
    "    total = np.linalg.pinv(W)[j, i]\n",
    "    \n",
    "    y = 0\n",
    "    for k in range(N):\n",
    "        y = y + W[i,k]*x[k]\n",
    "    \n",
    "    total = total + fhatpp_fhatp(y)*x[j]\n",
    "    return total"
   ]
  },
  {
   "cell_type": "code",
   "execution_count": 67,
   "metadata": {
    "collapsed": true
   },
   "outputs": [],
   "source": [
    "#(b) Compute the update matrix ∆W using the natural gradient as described in the lecture notes.\n",
    "def dWn(eta, W, x):\n",
    "    return np.dot(dW(eta, W, x), np.dot(W.T, W))"
   ]
  },
  {
   "cell_type": "code",
   "execution_count": 74,
   "metadata": {
    "collapsed": false,
    "scrolled": true
   },
   "outputs": [
    {
     "name": "stdout",
     "output_type": "stream",
     "text": [
      "[[ 0.08873344  3.45473805]\n",
      " [ 3.51349304  0.69453829]]\n"
     ]
    }
   ],
   "source": [
    "#(c) Choose a suitable learning rate η and apply both versions to the data to unmix the sources.\n",
    "eta = .4\n",
    "#Wa = W\n",
    "#Wb = W\n",
    "\n",
    "for t in range(1,18000):\n",
    "    #print(W)\n",
    "    xa = xsc[:,np.random.randint(xsc.shape[1])]\n",
    "    #xa = x[:,t]\n",
    "    Wold = W.copy()\n",
    "    \n",
    "    '''\n",
    "    for i in range(W.shape[0]):\n",
    "        for j in range(W.shape[1]):\n",
    "            W[i,j] = W[i,j] + dW_nonmatrix(eta/float(t), W, xa, i, j)\n",
    "    '''\n",
    "    \n",
    "    W = W + dW(eta/float(t), W, xa)\n",
    "    #print(np.sum(W))\n",
    "    '''\n",
    "    if np.sum(W) < .01:\n",
    "    #if W.all() == Wold.all():\n",
    "        print(\"Converged at \"+str(t)+\"!\")\n",
    "        print(Wold)\n",
    "        print(W)\n",
    "        break\n",
    "    '''\n",
    "    #Wa = Wa + dW_nonmatrix(eta/float(t+1), Wa, xa)\n",
    "    #Wb = Wb + dWn(eta/float(t+1), Wb, xa)\n",
    "    #print(Wa)\n",
    "print(W)\n",
    "#print(Wa)\n",
    "#print(Wb)\n",
    "shata = np.dot(W, x)\n",
    "#print(shata)"
   ]
  },
  {
   "cell_type": "markdown",
   "metadata": {},
   "source": [
    "#Results"
   ]
  },
  {
   "cell_type": "code",
   "execution_count": 75,
   "metadata": {
    "collapsed": false
   },
   "outputs": [
    {
     "data": {
      "image/png": "[encoded data removed]",
      "text/plain": [
       "<matplotlib.figure.Figure at 0x10c769da0>"
      ]
     },
     "metadata": {},
     "output_type": "display_data"
    },
    {
     "data": {
      "image/png": "[encoded data removed]",
      "text/plain": [
       "<matplotlib.figure.Figure at 0x10c28ea58>"
      ]
     },
     "metadata": {},
     "output_type": "display_data"
    },
    {
     "data": {
      "image/png": "[encoded data removed]",
      "text/plain": [
       "<matplotlib.figure.Figure at 0x10af0afd0>"
      ]
     },
     "metadata": {},
     "output_type": "display_data"
    },
    {
     "data": {
      "image/png": "[encoded data removed]",
      "text/plain": [
       "<matplotlib.figure.Figure at 0x10aeaada0>"
      ]
     },
     "metadata": {},
     "output_type": "display_data"
    }
   ],
   "source": [
    "#(a) Plot & Play \n",
    "#(i) the original sounds (e.g. use scipy.io.wavfile to save playable files), \n",
    "#(ii) the mixed sources (before and after the data permutation), \n",
    "#and the recovered signals (estimated sources) ˆs = Wx using the unpermuted data.\n",
    "'''\n",
    "#(i)\n",
    "plt.plot(range(s.shape[1]), s[0])\n",
    "plt.show()\n",
    "plt.plot(range(s.shape[1]), s[1])\n",
    "plt.show()\n",
    "\n",
    "#(iii)\n",
    "plt.plot(range(shata.shape[1]), shata[0])\n",
    "plt.show()\n",
    "plt.plot(range(shata.shape[1]), shata[1])\n",
    "plt.show()\n",
    "'''\n",
    "\n",
    "\n",
    "plt.plot(range(s.shape[1]), s[0])\n",
    "plt.show()\n",
    "plt.plot(range(shata.shape[1]), shata[0])\n",
    "plt.show()\n",
    "\n",
    "\n",
    "plt.plot(range(s.shape[1]), s[1])\n",
    "plt.show()\n",
    "plt.plot(range(shata.shape[1]), shata[1])\n",
    "plt.show()"
   ]
  },
  {
   "cell_type": "code",
   "execution_count": 160,
   "metadata": {
    "collapsed": true
   },
   "outputs": [],
   "source": [
    "#(b) Calculate the correlations (as above) between the true sources and the estimations.\n"
   ]
  },
  {
   "cell_type": "code",
   "execution_count": 161,
   "metadata": {
    "collapsed": true
   },
   "outputs": [],
   "source": [
    "#(c) For every 1000th update, plot ||∆W||2F :=  Ni=1,j=1(∆wi,j)2 to compare the convergence speed for the two gradient methods. Whiten your data before applying ICA and compare the learning speeds again. Describe the differences between the two variants of the learning algorithm.\n"
   ]
  },
  {
   "cell_type": "code",
   "execution_count": null,
   "metadata": {
    "collapsed": true
   },
   "outputs": [],
   "source": [
    "#(d) Plot the density of the mixed, unmixed, and true signals & interpret your results."
   ]
  }
 ],
 "metadata": {
  "kernelspec": {
   "display_name": "Python 3",
   "language": "python",
   "name": "python3"
  },
  "language_info": {
   "codemirror_mode": {
    "name": "ipython",
    "version": 3
   },
   "file_extension": ".py",
   "mimetype": "text/x-python",
   "name": "python",
   "nbconvert_exporter": "python",
   "pygments_lexer": "ipython3",
   "version": "3.4.3"
  }
 },
 "nbformat": 4,
 "nbformat_minor": 0
}
