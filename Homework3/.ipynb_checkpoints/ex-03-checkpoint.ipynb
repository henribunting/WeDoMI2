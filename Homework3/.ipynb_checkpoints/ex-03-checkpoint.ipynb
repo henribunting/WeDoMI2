{
 "cells": [
  {
   "cell_type": "markdown",
   "metadata": {},
   "source": [
    "# PCA: data compression and online learning\n",
    "\n",
    "This problem sheet explores applications of batch and online PCA. The first exercise shows\n",
    "how (batch) PCA can be used for compressing data. The second exercise demonstrates how the\n",
    "first principal direction can be found with a simple iterative algorithm (Oja's Rule) and the third\n",
    "exercise applies it to online-learning."
   ]
  },
  {
   "cell_type": "markdown",
   "metadata": {},
   "source": [
    "## 3.1 Data compression (3 points)\n",
    "Choose a portion of an arbitrary image from the image database (`imgpca.zip` – used also on\n",
    "the previous exercise sheet) and reconstruct it using only the first `n` PCs for `n ∈ {1, 2, 4, 8, 16, 100}`.\n",
    "To this end,\n",
    "\n",
    "1. take a subportion of e.g. `160 \\times 320` pixels of the chosen image and partition it into `10 × 20` tiles."
   ]
  }
 ],
 "metadata": {
  "kernelspec": {
   "display_name": "Python 2",
   "language": "python",
   "name": "python2"
  },
  "language_info": {
   "codemirror_mode": {
    "name": "ipython",
    "version": 2
   },
   "file_extension": ".py",
   "mimetype": "text/x-python",
   "name": "python",
   "nbconvert_exporter": "python",
   "pygments_lexer": "ipython2",
   "version": "2.7.11"
  }
 },
 "nbformat": 4,
 "nbformat_minor": 0
}
