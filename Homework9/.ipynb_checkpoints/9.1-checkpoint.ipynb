{
 "cells": [
  {
   "cell_type": "code",
   "execution_count": 1,
   "metadata": {
    "collapsed": true
   },
   "outputs": [],
   "source": [
    "import numpy as np\n",
    "import matplotlib.pyplot as plt\n",
    "% matplotlib inline"
   ]
  },
  {
   "cell_type": "markdown",
   "metadata": {},
   "source": [
    "# 9.1 Simulated Annealing"
   ]
  },
  {
   "cell_type": "code",
   "execution_count": 34,
   "metadata": {
    "collapsed": true
   },
   "outputs": [],
   "source": [
    "#the cost (“energy”)\n",
    "def E(s, w):\n",
    "    total = 0\n",
    "    for i in range(len(s)):\n",
    "        for j in range(len(s)):\n",
    "            total = total + w[i,j]*s[i]*s[j]\n",
    "    return -.5 * total\n",
    "\n",
    "#The probability that the network is in a state s with energy E(s) is given by\n",
    "def P(s, w, b):\n",
    "    (1.0/Z(s,w,b)) * np.exp(-b * E(s,w))\n",
    "\n",
    "#the partition function Z guarantees P (s) to be a valid probability mass function\n",
    "#is given as the sum over all possible configurations\n",
    "def Z(s, b):\n",
    "    total = 0\n",
    "    for i in range(len(s)):\n",
    "        total = total + np.exp( -b * E(s, w))\n",
    "    return -.5 * total"
   ]
  },
  {
   "cell_type": "markdown",
   "metadata": {},
   "source": [
    "# Initialization"
   ]
  },
  {
   "cell_type": "code",
   "execution_count": 44,
   "metadata": {
    "collapsed": false
   },
   "outputs": [],
   "source": [
    "#set β0,τ>1\n",
    "b0 = 1.00001\n",
    "tau = 1.01\n",
    "bt = b0\n",
    "\n",
    "#tmax\n",
    "tmax = 500\n",
    "\n",
    "#set initial state s randomly\n",
    "N = 6\n",
    "s = np.sign(np.random.rand(N)-.5)\n",
    "\n",
    "#w arbitrary, but symmetrically and with zero diagonal\n",
    "w = np.random.rand(N,N)\n",
    "for i in range(N):\n",
    "    w[i,i] = 0\n",
    "    for j in range(i):\n",
    "        w[j,i] = w[i,j]\n",
    "\n",
    "#number of times to repeat\n",
    "#try both M=1 and M=500\n",
    "M = 10"
   ]
  },
  {
   "cell_type": "markdown",
   "metadata": {},
   "source": [
    "# Optimization"
   ]
  },
  {
   "cell_type": "code",
   "execution_count": 45,
   "metadata": {
    "collapsed": false
   },
   "outputs": [
    {
     "name": "stderr",
     "output_type": "stream",
     "text": [
      "/Users/henri/anaconda/lib/python3.4/site-packages/IPython/kernel/__main__.py:20: RuntimeWarning: overflow encountered in exp\n"
     ]
    }
   ],
   "source": [
    "Ts = np.zeros(tmax)\n",
    "Es = np.zeros(tmax)\n",
    "#for each iteration t = 0, ..., tmax\n",
    "for t in range(tmax):\n",
    "    \n",
    "    #repeat the following M times (state update loop):\n",
    "    for m in range(M):\n",
    "        #select node i randomly\n",
    "        i = np.random.randint(0, N)\n",
    "        #print(t, i)\n",
    "        \n",
    "        #determine the energies for the two options of state si and compute their difference\n",
    "        sci = s.copy()\n",
    "        sfi = s.copy()\n",
    "        sfi[i] = sfi[i] * -1\n",
    "        Ec = E(sci, w)\n",
    "        Ef = E(sfi, w)\n",
    "        dE = Ef - Ec\n",
    "        #flip state si with probability\n",
    "        Pf = np.power(1 + np.exp(bt*dE), -1)\n",
    "        if np.random.rand() < Pf:\n",
    "            s[i] = s[i] * -1\n",
    "        #print(Pf)\n",
    "        #print(Pf*bt)\n",
    "        \n",
    "    #increase β\n",
    "    bt = tau * bt\n",
    "    \n",
    "    #For plotting\n",
    "    Ts[t] = 1.0/bt\n",
    "    Es[t] = E(s, w)"
   ]
  },
  {
   "cell_type": "markdown",
   "metadata": {},
   "source": [
    "# Plotting"
   ]
  },
  {
   "cell_type": "code",
   "execution_count": 47,
   "metadata": {
    "collapsed": false
   },
   "outputs": [
    {
     "data": {
      "image/png": "[encoded data removed]",
      "text/plain": [
       "<matplotlib.figure.Figure at 0x1081092b0>"
      ]
     },
     "metadata": {},
     "output_type": "display_data"
    },
    {
     "data": {
      "image/png": "[encoded data removed]",
      "text/plain": [
       "<matplotlib.figure.Figure at 0x1081de780>"
      ]
     },
     "metadata": {},
     "output_type": "display_data"
    }
   ],
   "source": [
    "plt.plot(range(tmax), Ts)\n",
    "plt.show()\n",
    "plt.plot(range(tmax), Es)\n",
    "plt.show()"
   ]
  },
  {
   "cell_type": "code",
   "execution_count": null,
   "metadata": {
    "collapsed": true
   },
   "outputs": [],
   "source": []
  }
 ],
 "metadata": {
  "kernelspec": {
   "display_name": "Python 3",
   "language": "python",
   "name": "python3"
  },
  "language_info": {
   "codemirror_mode": {
    "name": "ipython",
    "version": 3
   },
   "file_extension": ".py",
   "mimetype": "text/x-python",
   "name": "python",
   "nbconvert_exporter": "python",
   "pygments_lexer": "ipython3",
   "version": "3.4.3"
  }
 },
 "nbformat": 4,
 "nbformat_minor": 0
}
